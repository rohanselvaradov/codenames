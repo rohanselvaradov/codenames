{
 "cells": [
  {
   "attachments": {},
   "cell_type": "markdown",
   "metadata": {},
   "source": [
    "# Codenames"
   ]
  },
  {
   "attachments": {},
   "cell_type": "markdown",
   "metadata": {},
   "source": [
    "## Notes\n",
    "Other similar projects:\n",
    "- https://github.com/XueweiYan/codenames-game-ai/tree/main/code\n",
    "- https://github.com/chail/Codenames\n",
    "- https://github.com/T60D/CodenamesAI\n",
    "- https://github.com/vej/codenames_game_AI "
   ]
  },
  {
   "attachments": {},
   "cell_type": "markdown",
   "metadata": {},
   "source": [
    "## Simple two-player game"
   ]
  },
  {
   "cell_type": "code",
   "execution_count": 35,
   "metadata": {},
   "outputs": [],
   "source": [
    "import os\n",
    "import random\n",
    "import numpy as np\n"
   ]
  },
  {
   "attachments": {},
   "cell_type": "markdown",
   "metadata": {},
   "source": [
    "### Grab the wordlist from [GitHub](https://github.com/sagelga/codenames)"
   ]
  },
  {
   "cell_type": "code",
   "execution_count": 36,
   "metadata": {},
   "outputs": [],
   "source": [
    "# if wordlist.txt does not already exist, download it\n",
    "if not os.path.exists('wordlist.txt'):\n",
    "    print('Downloading wordlist.txt...')\n",
    "    !wget https://raw.githubusercontent.com/sagelga/codenames/main/wordlist/en-EN/default/wordlist.txt\n",
    "    print('Download complete.')"
   ]
  },
  {
   "attachments": {},
   "cell_type": "markdown",
   "metadata": {},
   "source": [
    "### Read the words into a vocabulary list"
   ]
  },
  {
   "cell_type": "code",
   "execution_count": 37,
   "metadata": {},
   "outputs": [],
   "source": [
    "WORDLIST_PATH = 'wordlist.txt'"
   ]
  },
  {
   "cell_type": "code",
   "execution_count": 38,
   "metadata": {},
   "outputs": [],
   "source": [
    "def get_words(filename):\n",
    "    with open(filename) as f:\n",
    "        words = f.read().lower().splitlines()\n",
    "    return words"
   ]
  },
  {
   "attachments": {},
   "cell_type": "markdown",
   "metadata": {},
   "source": [
    "### Create a set of words for a game and build the board"
   ]
  },
  {
   "attachments": {},
   "cell_type": "markdown",
   "metadata": {},
   "source": [
    "Make the game map, with 25 words:\n",
    "- 8 red `R`\n",
    "- 8 blue `B`\n",
    "- 1 double agent (red/blue) `R/B`\n",
    "- 7 neutral `N`\n",
    "- 1 assassin `X`"
   ]
  },
  {
   "cell_type": "code",
   "execution_count": 39,
   "metadata": {},
   "outputs": [],
   "source": [
    "def create_agent_map(first_team):\n",
    "    \"\"\"\n",
    "    Args:\n",
    "        first_team (str): 'R' or 'B'\n",
    "    \"\"\"\n",
    "    agents = 8 * ['R', 'B'] + 7 * ['N'] + ['X'] + [first_team]\n",
    "    random.shuffle(agents)\n",
    "    agent_map = np.array(agents).reshape(5, 5)\n",
    "    return agent_map"
   ]
  },
  {
   "cell_type": "code",
   "execution_count": 40,
   "metadata": {},
   "outputs": [],
   "source": [
    "def create_word_map(vocabulary):\n",
    "    \"\"\"\n",
    "    Args:\n",
    "        words (list): list of words\n",
    "    \"\"\"\n",
    "    words = random.sample(vocabulary, 25)\n",
    "    word_map = np.array(words).reshape(5, 5)\n",
    "    return word_map"
   ]
  },
  {
   "cell_type": "code",
   "execution_count": 41,
   "metadata": {},
   "outputs": [],
   "source": [
    "vocabulary = get_words(WORDLIST_PATH)\n",
    "word_map = create_word_map(vocabulary)\n",
    "agent_map = create_agent_map('R')"
   ]
  }
 ],
 "metadata": {
  "kernelspec": {
   "display_name": "venv",
   "language": "python",
   "name": "python3"
  },
  "language_info": {
   "codemirror_mode": {
    "name": "ipython",
    "version": 3
   },
   "file_extension": ".py",
   "mimetype": "text/x-python",
   "name": "python",
   "nbconvert_exporter": "python",
   "pygments_lexer": "ipython3",
   "version": "3.10.6"
  },
  "orig_nbformat": 4
 },
 "nbformat": 4,
 "nbformat_minor": 2
}
